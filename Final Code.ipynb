{
 "cells": [
  {
   "cell_type": "code",
   "execution_count": null,
   "metadata": {},
   "outputs": [],
   "source": [
    "from musixmatch import musixmatch\n",
    "\n",
    "musixmatch = musixmatch.Musixmatch('28437eba626dec5848d1d8b68e39033e')\n",
    "\n",
    "while True:\n",
    "    song = input(\"Enter a song name or 'q' to quit: \")\n",
    "    if song == 'q':\n",
    "        print(\"Program exit\")\n",
    "        break\n",
    "    artist = input(\"Enter the artist of the song or 'q' to quit: \")\n",
    "    if artist == 'q':\n",
    "        print(\"Program exit\")\n",
    "        break\n",
    "    else:\n",
    "        track = musixmatch.track_search(q_track=song, q_artist=artist, page_size=10, page=1, s_track_rating='desc')\n",
    "        track_list = track[\"message\"][\"body\"][\"track_list\"]\n",
    "        track_id = track_list[0][\"track\"][\"track_id\"]\n",
    "        lyrics = musixmatch.track_lyrics_get(track_id)\n",
    "        lyrics = lyrics[\"message\"][\"body\"][\"lyrics\"][\"lyrics_body\"]\n",
    "        print(lyrics)\n",
    "        "
   ]
  },
  {
   "cell_type": "code",
   "execution_count": null,
   "metadata": {},
   "outputs": [],
   "source": []
  },
  {
   "cell_type": "code",
   "execution_count": null,
   "metadata": {},
   "outputs": [],
   "source": []
  }
 ],
 "metadata": {
  "kernelspec": {
   "display_name": "Python 3",
   "language": "python",
   "name": "python3"
  },
  "language_info": {
   "codemirror_mode": {
    "name": "ipython",
    "version": 3
   },
   "file_extension": ".py",
   "mimetype": "text/x-python",
   "name": "python",
   "nbconvert_exporter": "python",
   "pygments_lexer": "ipython3",
   "version": "3.6.5"
  }
 },
 "nbformat": 4,
 "nbformat_minor": 2
}
