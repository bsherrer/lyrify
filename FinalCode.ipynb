{
 "cells": [
  {
   "cell_type": "code",
   "execution_count": 1,
   "metadata": {},
   "outputs": [
    {
     "data": {
      "text/html": [
       "<h1>Lyrify Lyrics Finder</h1>"
      ],
      "text/plain": [
       "<IPython.core.display.HTML object>"
      ]
     },
     "metadata": {},
     "output_type": "display_data"
    },
    {
     "data": {
      "text/html": [
       "It's only catchy if you know the words!"
      ],
      "text/plain": [
       "<IPython.core.display.HTML object>"
      ]
     },
     "metadata": {},
     "output_type": "display_data"
    },
    {
     "name": "stdout",
     "output_type": "stream",
     "text": [
      "----------------------------------------------------------------------------------------------------\n",
      "Enter a song name or 'end' to quit: apple\n",
      "Enter the artist of the song or 'end' to quit: bananna\n",
      "\n",
      "Here are the lyrics to Apple by Bananna!\n",
      "\n",
      "We don't recognize any songs called Apple by Bananna\n",
      "Enter a song name or 'end' to quit: end\n",
      "EXIT\n"
     ]
    }
   ],
   "source": [
    "from musixmatch import musixmatch ##this is an API ##mira\n",
    "from IPython.core.display import display, HTML\n",
    "import webbrowser \n",
    "\n",
    "musixmatch = musixmatch.Musixmatch('28437eba626dec5848d1d8b68e39033e') ##mira\n",
    "\n",
    "def lyrifysearch(song,artist):   ##function to search through musixmatch for song ##Brianna and Mira\n",
    "    \n",
    "    track = musixmatch.track_search(q_track=song, q_artist=artist, page_size=10, page=1, s_track_rating='desc') #takes input from artist and song to find track\n",
    "    track_list = track[\"message\"][\"body\"][\"track_list\"]#finds elements of track to put into track_list\n",
    "    track_id = track_list[0][\"track\"][\"track_id\"]#takes first item “message” and puts track & id into track_id\n",
    "    \n",
    "    lyrics = musixmatch.track_lyrics_get(track_id) #searches for track using track id\n",
    "    lyrics = lyrics[\"message\"][\"body\"][\"lyrics\"][\"lyrics_body\"] #lyrics are these elements in lyrics from musixmatch\n",
    "\n",
    "    return lyrics #displays lyrics\n",
    "\n",
    "def titleprint(text): ##Mira\n",
    "    display(HTML('<h1>'+text+'</h1>'))\n",
    "\n",
    "def prettyprint(text): ##Mira\n",
    "    display(HTML(text))\n",
    "    \n",
    "titleprint(\"Lyrify Lyrics Finder\")\n",
    "prettyprint(\"It's only catchy if you know the words!\")\n",
    "print('-'*100)\n",
    "\n",
    "while True: \n",
    "    \n",
    "    try: ##Brianna \n",
    "        \n",
    "        song = input(\"Enter a song name or 'end' to quit: \") #enter song ##Mira\n",
    "        song = song.title()#capitalizes to stop any error regardless of input\n",
    "        \n",
    "        if song == 'End': # if end is inputted, quit program\n",
    "            print(\"EXIT\")\n",
    "            break\n",
    "            \n",
    "        artist = input(\"Enter the artist of the song or 'end' to quit: \")\n",
    "        artist = artist.title() #capitalizes to stop any error regardless of input\n",
    "        \n",
    "        if artist == 'End':  # if end is inputted, quit program\n",
    "            print(\"EXIT\")\n",
    "            break\n",
    "            \n",
    "        else: \n",
    "            print(\"\\nHere are the lyrics to\",song,\"by\",artist+\"!\\n\")\n",
    "            print(lyrifysearch(song,artist))\n",
    "            words = (song+\" by \"+artist) #puts the song & artist into a variable\n",
    "            webbrowser.open(\"https://www.youtube.com/results?search_query=\"+words) #searches youtube for the results of \"words\" ##Mira\n",
    "            \n",
    "    except: ##Brianna\n",
    "        print(\"We don't recognize any songs called\",song.title(),\"by\",artist.title()) #error display message if could not find what was entered"
   ]
  },
  {
   "cell_type": "code",
   "execution_count": 2,
   "metadata": {},
   "outputs": [],
   "source": []
  },
  {
   "cell_type": "code",
   "execution_count": 8,
   "metadata": {},
   "outputs": [
    {
     "data": {
      "text/plain": [
       "True"
      ]
     },
     "execution_count": 8,
     "metadata": {},
     "output_type": "execute_result"
    }
   ],
   "source": []
  },
  {
   "cell_type": "code",
   "execution_count": null,
   "metadata": {},
   "outputs": [],
   "source": []
  }
 ],
 "metadata": {
  "kernelspec": {
   "display_name": "Python 3",
   "language": "python",
   "name": "python3"
  },
  "language_info": {
   "codemirror_mode": {
    "name": "ipython",
    "version": 3
   },
   "file_extension": ".py",
   "mimetype": "text/x-python",
   "name": "python",
   "nbconvert_exporter": "python",
   "pygments_lexer": "ipython3",
   "version": "3.6.5"
  }
 },
 "nbformat": 4,
 "nbformat_minor": 2
}
