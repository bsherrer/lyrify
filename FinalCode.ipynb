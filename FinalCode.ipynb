{
 "cells": [
  {
   "cell_type": "code",
   "execution_count": null,
   "metadata": {},
   "outputs": [
    {
     "data": {
      "text/html": [
       "<h1>Lyrify Lyrics Finder</h1>"
      ],
      "text/plain": [
       "<IPython.core.display.HTML object>"
      ]
     },
     "metadata": {},
     "output_type": "display_data"
    },
    {
     "data": {
      "text/html": [
       "It's only catch if you know the words!"
      ],
      "text/plain": [
       "<IPython.core.display.HTML object>"
      ]
     },
     "metadata": {},
     "output_type": "display_data"
    },
    {
     "name": "stdout",
     "output_type": "stream",
     "text": [
      "----------------------------------------------------------------------------------------------------\n",
      "Enter a song name or 'end' to quit: Time of the Season\n",
      "Enter the artist of the song or 'end' to quit: The Zombies\n",
      "\n",
      "Here are the lyrics to Time Of The Season by The Zombies!\n",
      "\n",
      "It's the time of the season\n",
      "When love runs high\n",
      "In this time give it to me easy\n",
      "And let me try with pleasured hands\n",
      "\n",
      "To take you in the sun to promised lands\n",
      "To show you every one\n",
      "It's the time of the season for loving\n",
      "\n",
      "What's your name? (What's your name?)\n",
      "...\n",
      "\n",
      "******* This Lyrics is NOT for Commercial use *******\n",
      "(1409618103617)\n"
     ]
    }
   ],
   "source": [
    "from musixmatch import musixmatch\n",
    "from IPython.core.display import display, HTML\n",
    "import webbrowser\n",
    "\n",
    "musixmatch = musixmatch.Musixmatch('28437eba626dec5848d1d8b68e39033e')\n",
    "\n",
    "def lyrifysearch(song,artist):   #this defines the function\n",
    "    \n",
    "    track = musixmatch.track_search(q_track=song, q_artist=artist, page_size=10, page=1, s_track_rating='desc')##Brianna\n",
    "    track_list = track[\"message\"][\"body\"][\"track_list\"]\n",
    "    track_id = track_list[0][\"track\"][\"track_id\"]\n",
    "    \n",
    "    lyrics = musixmatch.track_lyrics_get(track_id)\n",
    "    lyrics = lyrics[\"message\"][\"body\"][\"lyrics\"][\"lyrics_body\"]\n",
    "    \n",
    "    return lyrics\n",
    "\n",
    "def titleprint(text):\n",
    "    display(HTML('<h1>'+text+'</h1>'))\n",
    "\n",
    "def prettyprint(text):\n",
    "    display(HTML(text))\n",
    "    \n",
    "titleprint(\"Lyrify Lyrics Finder\")\n",
    "prettyprint(\"It's only catchy if you know the words!\")\n",
    "print('-'*100)\n",
    "\n",
    "while True: \n",
    "    \n",
    "    try:\n",
    "        \n",
    "        song = input(\"Enter a song name or 'end' to quit: \")\n",
    "        song = song.title()\n",
    "        \n",
    "        if song == 'End':\n",
    "            print(\"EXIT\")\n",
    "            break\n",
    "            \n",
    "        artist = input(\"Enter the artist of the song or 'end' to quit: \")\n",
    "        artist = artist.title()\n",
    "        \n",
    "        if artist == 'End':\n",
    "            print(\"EXIT\")\n",
    "            break\n",
    "            \n",
    "        else: \n",
    "            print(\"\\nHere are the lyrics to\",song,\"by\",artist+\"!\\n\")\n",
    "            print(lyrifysearch(song,artist))\n",
    "            words = (song+\" by \"+artist)\n",
    "            webbrowser.open(\"https://www.youtube.com/results?search_query=\"+words)\n",
    "            \n",
    "    except:\n",
    "        \n",
    "        print(\"We don't recognize any songs called\",song.title(),\"by\",artist.title())"
   ]
  },
  {
   "cell_type": "code",
   "execution_count": 2,
   "metadata": {},
   "outputs": [],
   "source": []
  },
  {
   "cell_type": "code",
   "execution_count": 8,
   "metadata": {},
   "outputs": [
    {
     "data": {
      "text/plain": [
       "True"
      ]
     },
     "execution_count": 8,
     "metadata": {},
     "output_type": "execute_result"
    }
   ],
   "source": []
  },
  {
   "cell_type": "code",
   "execution_count": null,
   "metadata": {},
   "outputs": [],
   "source": []
  }
 ],
 "metadata": {
  "kernelspec": {
   "display_name": "Python 3",
   "language": "python",
   "name": "python3"
  },
  "language_info": {
   "codemirror_mode": {
    "name": "ipython",
    "version": 3
   },
   "file_extension": ".py",
   "mimetype": "text/x-python",
   "name": "python",
   "nbconvert_exporter": "python",
   "pygments_lexer": "ipython3",
   "version": "3.6.5"
  }
 },
 "nbformat": 4,
 "nbformat_minor": 2
}
