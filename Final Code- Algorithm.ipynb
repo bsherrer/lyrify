{
 "cells": [
  {
   "attachments": {},
   "cell_type": "markdown",
   "metadata": {},
   "source": [
    "Make the musixmatch search information into a function\n",
    "Define it as a function\n",
    "Import webbrowser for youtube link at end of function\n",
    "\n",
    "While True:\n",
    "Using Try:\n",
    "prompt user to input song\n",
    "if user inputs quit\n",
    "stop program\n",
    "prompt user to input artist\n",
    "if user inputs quit\n",
    "stop program\n",
    "else search lyrify\n",
    "Print lyrify function(song,artist)\n",
    "Put song & artist into variable called words\n",
    "Use web browser to search words in youtube link\n",
    "Input words into webpage displaying results searched\n",
    "Except:Give user error message"
   ]
  }
 ],
 "metadata": {
  "kernelspec": {
   "display_name": "Python 3",
   "language": "python",
   "name": "python3"
  },
  "language_info": {
   "codemirror_mode": {
    "name": "ipython",
    "version": 3
   },
   "file_extension": ".py",
   "mimetype": "text/x-python",
   "name": "python",
   "nbconvert_exporter": "python",
   "pygments_lexer": "ipython3",
   "version": "3.6.6"
  }
 },
 "nbformat": 4,
 "nbformat_minor": 2
}
