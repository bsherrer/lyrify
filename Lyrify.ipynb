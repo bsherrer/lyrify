{
 "cells": [
  {
   "cell_type": "code",
   "execution_count": 8,
   "metadata": {},
   "outputs": [],
   "source": [
    "import sys\n",
    "import spotipy\n",
    "import spotipy.util as util\n",
    "import requests\n",
    "\n",
    "import pprint\n",
    "import sys\n",
    "import os\n",
    "import subprocess\n",
    "import webbrowser\n",
    "\n",
    "from IPython.core.display import display, HTML\n",
    "client_id = \"7b51f8057060428badac336f2fe4a250\"\n",
    "client_secret = \"40221bd5a5894ed38c4901e6a2c2e29d\"\n",
    "redirect_uri = \"http://localhost:8888/callback/\""
   ]
  },
  {
   "cell_type": "code",
   "execution_count": 17,
   "metadata": {},
   "outputs": [
    {
     "ename": "SyntaxError",
     "evalue": "invalid syntax (<ipython-input-17-70a09d232b4f>, line 5)",
     "output_type": "error",
     "traceback": [
      "\u001b[0;36m  File \u001b[0;32m\"<ipython-input-17-70a09d232b4f>\"\u001b[0;36m, line \u001b[0;32m5\u001b[0m\n\u001b[0;31m    export SPOTIPY_CLIENT_ID= '7b51f8057060428badac336f2fe4a250'\u001b[0m\n\u001b[0m                           ^\u001b[0m\n\u001b[0;31mSyntaxError\u001b[0m\u001b[0;31m:\u001b[0m invalid syntax\n"
     ]
    }
   ],
   "source": [
    "export SPOTIPY_CLIENT_ID= '7b51f8057060428badac336f2fe4a250'\n",
    "export SPOTIPY_CLIENT_SECRET='40221bd5a5894ed38c4901e6a2c2e29d'\n",
    "export SPOTIPY_REDIRECT_URI= 'http://localhost:8888/callback/'\n",
    "\n",
    "username = sys.argv[1]\n",
    "scope = 'user-read-private user-read-email user-read-playback-state user-modify-playback-state'\n",
    "\n",
    "try:\n",
    "    token = util.prompt_for_user_token(username, scope)\n",
    "except:\n",
    "    os.remove(f\".cache-{username}\")\n",
    "    token = util.prompt_for_user_token(username, scope)"
   ]
  },
  {
   "cell_type": "code",
   "execution_count": null,
   "metadata": {},
   "outputs": [],
   "source": [
    "import spotipy\n",
    "\n",
    "song_name = input(\"what song are you listening to? \")\n",
    "artist_name = input(\"Who is the song by \")\n",
    "\n",
    "artist = 'spotify:artist:36QJpDe2go2KgaRleHCDTp' ## find inputed artist_name in spotify for value\n",
    "\n",
    "spotify = spotipy.Spotify()\n",
    "results = spotify.artist_top_tracks(artist)\n",
    "\n",
    "for track in results['tracks'][0]:\n",
    "    print 'track    : ' + track['name']\n",
    "    print 'audio    : ' + track['preview_url']\n",
    "    print 'cover art: ' + track['album']['images'][0]['url']\n",
    "    print\n",
    "\n",
    "print(\"The lyrics for %s by %s are\"%(song_name, artist_name))"
   ]
  }
 ],
 "metadata": {
  "kernelspec": {
   "display_name": "Python 3",
   "language": "python",
   "name": "python3"
  },
  "language_info": {
   "codemirror_mode": {
    "name": "ipython",
    "version": 3
   },
   "file_extension": ".py",
   "mimetype": "text/x-python",
   "name": "python",
   "nbconvert_exporter": "python",
   "pygments_lexer": "ipython3",
   "version": "3.6.6"
  }
 },
 "nbformat": 4,
 "nbformat_minor": 2
}
