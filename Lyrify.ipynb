{
 "cells": [
  {
   "cell_type": "code",
   "execution_count": 1,
   "metadata": {},
   "outputs": [],
   "source": [
    "import sys\n",
    "import spotipy\n",
    "import spotipy.util as util\n",
    "import requests\n",
    "\n",
    "import pprint\n",
    "import sys\n",
    "import os\n",
    "import subprocess\n",
    "import webbrowser\n",
    "\n",
    "from IPython.core.display import display, HTML\n",
    "client_id = \"7b51f8057060428badac336f2fe4a250\"\n",
    "client_secret = \"40221bd5a5894ed38c4901e6a2c2e29d\"\n",
    "redirect_uri = \"http://localhost:8888/callback/\""
   ]
  },
  {
   "cell_type": "code",
   "execution_count": 2,
   "metadata": {},
   "outputs": [],
   "source": [
    "! export SPOTIPY_CLIENT_ID=\"7b51f8057060428badac336f2fe4a250\"\n",
    "! export SPOTIPY_CLIENT_SECRET=\"40221bd5a5894ed38c4901e6a2c2e29d\"\n",
    "! export SPOTIPY_REDIRECT_URI=\"http://localhost:8888/callback/\""
   ]
  },
  {
   "cell_type": "code",
   "execution_count": null,
   "metadata": {},
   "outputs": [
    {
     "name": "stdout",
     "output_type": "stream",
     "text": [
      "\n",
      "\n",
      "            User authentication requires interaction with your\n",
      "            web browser. Once you enter your credentials and\n",
      "            give authorization, you will be redirected to\n",
      "            a url.  Paste that url you were directed to to\n",
      "            complete the authorization.\n",
      "\n",
      "        \n",
      "Opened https://accounts.spotify.com/authorize?client_id=7b51f8057060428badac336f2fe4a250&response_type=code&redirect_uri=http%3A%2F%2Flocalhost%3A8888%2Fcallback%2F&scope=user-modify-playback-state+user-read-email+user-read-playback-state+user-read-private in your browser\n",
      "\n",
      "\n"
     ]
    }
   ],
   "source": [
    "username = \"lyrrify\"\n",
    "scope = 'user-read-private user-read-email user-read-playback-state user-modify-playback-state'\n",
    "\n",
    "token = util.prompt_for_user_token(username,scope,client_id= client_id ,client_secret=client_secret,redirect_uri=redirect_uri)\n",
    "                                   \n",
    "                                   "
   ]
  },
  {
   "cell_type": "code",
   "execution_count": 3,
   "metadata": {},
   "outputs": [],
   "source": [
    "import spotipy\n",
    "from spotipy.oauth2 import SpotifyClientCredentials\n",
    "client_credentials_manager = SpotifyClientCredentials(client_id = client_id, client_secret = client_secret)\n",
    "sp = spotipy.Spotify(client_credentials_manager=client_credentials_manager)\n",
    "playlists = sp.user_playlists('briannaherrera6')"
   ]
  },
  {
   "cell_type": "code",
   "execution_count": 4,
   "metadata": {},
   "outputs": [
    {
     "name": "stdout",
     "output_type": "stream",
     "text": [
      "Chill Hits\n",
      "dancehall\n",
      "sdfasdf\n",
      "Hanging Out and Relaxing\n"
     ]
    }
   ],
   "source": [
    "playlists\n",
    "for item in playlists['items']:\n",
    "    print(item['name'])"
   ]
  },
  {
   "cell_type": "code",
<<<<<<< HEAD
   "execution_count": 1,
=======
   "execution_count": 5,
>>>>>>> e48962813193d233b4dff9c2b42bcab4bd44aa9a
   "metadata": {},
   "outputs": [
    {
     "ename": "SyntaxError",
<<<<<<< HEAD
     "evalue": "Missing parentheses in call to 'print'. Did you mean print('track    : ' + track['name'])? (<ipython-input-1-1f320fd33d27>, line 12)",
     "output_type": "error",
     "traceback": [
      "\u001b[0;36m  File \u001b[0;32m\"<ipython-input-1-1f320fd33d27>\"\u001b[0;36m, line \u001b[0;32m12\u001b[0m\n\u001b[0;31m    print 'track    : ' + track['name']\u001b[0m\n\u001b[0m                      ^\u001b[0m\n\u001b[0;31mSyntaxError\u001b[0m\u001b[0;31m:\u001b[0m Missing parentheses in call to 'print'. Did you mean print('track    : ' + track['name'])?\n"
=======
     "evalue": "Missing parentheses in call to 'print'. Did you mean print('track    : ' + track['name'])? (<ipython-input-5-1f320fd33d27>, line 12)",
     "output_type": "error",
     "traceback": [
      "\u001b[0;36m  File \u001b[0;32m\"<ipython-input-5-1f320fd33d27>\"\u001b[0;36m, line \u001b[0;32m12\u001b[0m\n\u001b[0;31m    print 'track    : ' + track['name']\u001b[0m\n\u001b[0m                      ^\u001b[0m\n\u001b[0;31mSyntaxError\u001b[0m\u001b[0;31m:\u001b[0m Missing parentheses in call to 'print'. Did you mean print('track    : ' + track['name'])?\n"
>>>>>>> e48962813193d233b4dff9c2b42bcab4bd44aa9a
     ]
    }
   ],
   "source": [
    "import spotipy\n",
    "\n",
    "song_name = input(\"what song are you listening to? \")\n",
    "artist_name = input(\"Who is the song by \")\n",
    "\n",
    "artist = 'spotify:artist:36QJpDe2go2KgaRleHCDTp' ## find inputed artist_name in spotify for value\n",
    "\n",
    "spotify = spotipy.Spotify()\n",
    "results = spotify.artist_top_tracks(artist)\n",
    "\n",
    "for track in results['tracks'][0]:\n",
    "    print 'track    : ' + track['name']\n",
    "    print 'audio    : ' + track['preview_url']\n",
    "    print 'cover art: ' + track['album']['images'][0]['url']\n",
    "    print\n",
    "\n",
    "print(\"The lyrics for %s by %s are\"%(song_name, artist_name))"
   ]
  },
  {
   "cell_type": "code",
   "execution_count": 23,
   "metadata": {},
   "outputs": [
    {
     "data": {
      "text/plain": [
       "['__class__',\n",
       " '__delattr__',\n",
       " '__dict__',\n",
       " '__dir__',\n",
       " '__doc__',\n",
       " '__eq__',\n",
       " '__format__',\n",
       " '__ge__',\n",
       " '__getattribute__',\n",
       " '__gt__',\n",
       " '__hash__',\n",
       " '__init__',\n",
       " '__init_subclass__',\n",
       " '__le__',\n",
       " '__lt__',\n",
       " '__module__',\n",
       " '__ne__',\n",
       " '__new__',\n",
       " '__reduce__',\n",
       " '__reduce_ex__',\n",
       " '__repr__',\n",
       " '__setattr__',\n",
       " '__sizeof__',\n",
       " '__str__',\n",
       " '__subclasshook__',\n",
       " '__weakref__',\n",
       " '_auth',\n",
       " '_auth_headers',\n",
       " '_delete',\n",
       " '_get',\n",
       " '_get_id',\n",
       " '_get_uri',\n",
       " '_internal_call',\n",
       " '_post',\n",
       " '_put',\n",
       " '_session',\n",
       " '_warn',\n",
       " 'album',\n",
       " 'album_tracks',\n",
       " 'albums',\n",
       " 'artist',\n",
       " 'artist_albums',\n",
       " 'artist_related_artists',\n",
       " 'artist_top_tracks',\n",
       " 'artists',\n",
       " 'audio_analysis',\n",
       " 'audio_features',\n",
       " 'categories',\n",
       " 'category_playlists',\n",
       " 'client_credentials_manager',\n",
       " 'current_user',\n",
       " 'current_user_followed_artists',\n",
       " 'current_user_playlists',\n",
       " 'current_user_saved_albums',\n",
       " 'current_user_saved_albums_add',\n",
       " 'current_user_saved_tracks',\n",
       " 'current_user_saved_tracks_add',\n",
       " 'current_user_saved_tracks_contains',\n",
       " 'current_user_saved_tracks_delete',\n",
       " 'current_user_top_artists',\n",
       " 'current_user_top_tracks',\n",
       " 'featured_playlists',\n",
       " 'max_get_retries',\n",
       " 'me',\n",
       " 'new_releases',\n",
       " 'next',\n",
       " 'prefix',\n",
       " 'previous',\n",
       " 'proxies',\n",
       " 'recommendation_genre_seeds',\n",
       " 'recommendations',\n",
       " 'requests_timeout',\n",
       " 'search',\n",
       " 'trace',\n",
       " 'trace_out',\n",
       " 'track',\n",
       " 'tracks',\n",
       " 'user',\n",
       " 'user_playlist',\n",
       " 'user_playlist_add_tracks',\n",
       " 'user_playlist_change_details',\n",
       " 'user_playlist_create',\n",
       " 'user_playlist_follow_playlist',\n",
       " 'user_playlist_is_following',\n",
       " 'user_playlist_remove_all_occurrences_of_tracks',\n",
       " 'user_playlist_remove_specific_occurrences_of_tracks',\n",
       " 'user_playlist_reorder_tracks',\n",
       " 'user_playlist_replace_tracks',\n",
       " 'user_playlist_tracks',\n",
       " 'user_playlist_unfollow',\n",
       " 'user_playlists']"
      ]
     },
     "execution_count": 23,
     "metadata": {},
     "output_type": "execute_result"
    }
   ],
   "source": [
    "dir (sp)"
   ]
  },
  {
   "cell_type": "code",
   "execution_count": null,
   "metadata": {},
   "outputs": [],
   "source": []
  }
 ],
 "metadata": {
  "kernelspec": {
   "display_name": "Python 3",
   "language": "python",
   "name": "python3"
  },
  "language_info": {
   "codemirror_mode": {
    "name": "ipython",
    "version": 3
   },
   "file_extension": ".py",
   "mimetype": "text/x-python",
   "name": "python",
   "nbconvert_exporter": "python",
   "pygments_lexer": "ipython3",
   "version": "3.6.5"
  }
 },
 "nbformat": 4,
 "nbformat_minor": 2
}
