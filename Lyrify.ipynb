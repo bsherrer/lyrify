{
 "cells": [
  {
   "cell_type": "code",
   "execution_count": 4,
   "metadata": {},
   "outputs": [],
   "source": [
    "import sys\n",
    "import spotipy\n",
    "import spotipy.util as util\n",
    "import requests\n",
    "\n",
    "import pprint\n",
    "import sys\n",
    "import os\n",
    "import subprocess\n",
    "import webbrowser\n",
    "\n",
    "from IPython.core.display import display, HTML\n",
    "client_id = \"7b51f8057060428badac336f2fe4a250\"\n",
    "client_secret = \"40221bd5a5894ed38c4901e6a2c2e29d\"\n",
    "redirect_uri = \"http://localhost:8888/callback/\""
   ]
  },
  {
   "cell_type": "code",
   "execution_count": null,
   "metadata": {},
   "outputs": [],
   "source": [
    "import re\n",
    "song_name = input(\"Enter lyrics (Must be 3 or more words): \")\n",
    "word_count = Song_name.split()\n",
    "\n",
    "while True:\n",
    "    if word_count >= 3:\n",
    "        print(\"You must enter a longer phrase.\")"
   ]
  },
  {
   "cell_type": "code",
   "execution_count": null,
   "metadata": {},
   "outputs": [],
   "source": [
    "import spotipy\n",
    "sp = spotipy.Spotify()\n",
    "\n",
    "results = sp.search(q='weezer', limit=20)\n",
    "for i, t in enumerate(results['tracks']['items']):\n",
    "    print ' ', i, t['name']"
   ]
  },
  {
   "cell_type": "code",
   "execution_count": null,
   "metadata": {},
   "outputs": [],
   "source": []
  }
 ],
 "metadata": {
  "kernelspec": {
   "display_name": "Python 3",
   "language": "python",
   "name": "python3"
  },
  "language_info": {
   "codemirror_mode": {
    "name": "ipython",
    "version": 3
   },
   "file_extension": ".py",
   "mimetype": "text/x-python",
   "name": "python",
   "nbconvert_exporter": "python",
   "pygments_lexer": "ipython3",
   "version": "3.6.6"
  }
 },
 "nbformat": 4,
 "nbformat_minor": 2
}
