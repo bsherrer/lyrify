{
 "cells": [
  {
   "cell_type": "code",
   "execution_count": 8,
   "metadata": {},
   "outputs": [],
   "source": [
    "from musixmatch import Musixmatch\n",
    "musixmatch = Musixmatch('28437eba626dec5848d1d8b68e39033e')"
   ]
  },
  {
   "cell_type": "code",
   "execution_count": 9,
   "metadata": {},
   "outputs": [
    {
     "data": {
      "text/plain": [
       "{'message': {'header': {'status_code': 200, 'execute_time': 0.045666933059692},\n",
       "  'body': {'artist_list': [{'artist': {'artist_id': 118,\n",
       "      'artist_mbid': '5eecaf18-02ec-47af-a4f2-7831db373419',\n",
       "      'artist_name': 'Queen',\n",
       "      'artist_name_translation_list': [{'artist_name_translation': {'language': 'JA',\n",
       "         'translation': 'クイーン'}}],\n",
       "      'artist_comment': '',\n",
       "      'artist_country': '',\n",
       "      'artist_alias_list': [{'artist_alias': 'クイーン'},\n",
       "       {'artist_alias': 'Queen + Adam Lambert'}],\n",
       "      'artist_rating': 100,\n",
       "      'primary_genres': {'music_genre_list': [{'music_genre': {'music_genre_id': 21,\n",
       "          'music_genre_parent_id': 34,\n",
       "          'music_genre_name': 'Rock',\n",
       "          'music_genre_name_extended': 'Rock',\n",
       "          'music_genre_vanity': 'Rock'}}]},\n",
       "      'secondary_genres': {'music_genre_list': []},\n",
       "      'artist_twitter_url': '',\n",
       "      'artist_vanity_id': 'Queen',\n",
       "      'artist_edit_url': 'https://www.musixmatch.com/artist/Queen?utm_source=application&utm_campaign=api&utm_medium=',\n",
       "      'artist_share_url': 'https://www.musixmatch.com/artist/Queen',\n",
       "      'artist_credits': {'artist_list': []},\n",
       "      'restricted': 0,\n",
       "      'managed': 0,\n",
       "      'updated_time': '2015-12-16T15:50:53Z'}}]}}}"
      ]
     },
     "execution_count": 9,
     "metadata": {},
     "output_type": "execute_result"
    }
   ],
   "source": [
    "musixmatch.chart_artists(1, 1)"
   ]
  },
  {
   "cell_type": "code",
   "execution_count": 10,
   "metadata": {},
   "outputs": [
    {
     "data": {
      "text/plain": [
       "{'message': {'header': {'status_code': 500,\n",
       "   'execute_time': 0.0018520355224609,\n",
       "   'exception_id': 9000},\n",
       "  'body': ''}}"
      ]
     },
     "execution_count": 10,
     "metadata": {},
     "output_type": "execute_result"
    }
   ],
   "source": [
    "musixmatch.track_get(15445219)"
   ]
  },
  {
   "cell_type": "code",
   "execution_count": 11,
   "metadata": {},
   "outputs": [
    {
     "data": {
      "text/plain": [
       "{'message': {'header': {'status_code': 200, 'execute_time': 0.013861894607544},\n",
       "  'body': {'lyrics': {'lyrics_id': 18006211,\n",
       "    'can_edit': 0,\n",
       "    'locked': 0,\n",
       "    'published_status': 5,\n",
       "    'action_requested': '',\n",
       "    'verified': 0,\n",
       "    'restricted': 0,\n",
       "    'instrumental': 0,\n",
       "    'explicit': 0,\n",
       "    'lyrics_body': \"Now and then I think of when we were together\\nLike when you said you felt so happy you could die\\nTold myself that you were right for me\\nBut felt so lonely in your company\\nBut that was love, and it's an ache I still remember\\n\\nYou can get addicted to a certain kind of sadness\\nLike resignation to the end, always the end\\nSo when we found that we could not make sense\\nWell, you said that we would still be friends\\nBut I'll admit that I was glad that it was over\\n\\nBut you didn't have to cut me off\\nMake out like it never happened and that we were nothing\\nAnd I don't even need your love\\nBut you treat me like a stranger, and that feels so rough\\n\\nNo, you didn't have to stoop so low\\n...\\n\\n******* This Lyrics is NOT for Commercial use *******\",\n",
       "    'lyrics_language': 'en',\n",
       "    'lyrics_language_description': 'English',\n",
       "    'script_tracking_url': 'https://tracking.musixmatch.com/t1.0/m_js/e_1/sn_0/l_18006211/su_0/rs_0/tr_3vUCAIl7EGhJRyW7yzsJVpgP2RV0-mKx6Gug2f150pa3kuLwr0uzZdMIaeJ1NMz24OZ68tC20NMStxGXGVJu7qu6eoX93rR5RTnOo60zGwjYX2Pg4cRrCSr8UumHVMWoyqLYuyXinJAfjvI5rQ2Ln2Mqr1VQK3Yw6B_KTxFz5d8xa68IyQOX17ADXmn_2qlSMU5i141UsARP-Ey1tifAPoyNgPxn4J72BLtpc77trJlfbHas-se35W6PDmk2F8k9aQxAHjNt7gRbg_4RUOAhekxsFHpPGu7V4rSPlS2pVxq3Q9Pdso7_LSR5T6gpg4nVhB_y6LSJWQ-GQzWUHX39W12nnaUPiJ99YJQyOs_AU3lAn8M99iwqtAQlniJ2X-eGpt2-Ob5IQ7wzCi1u6iuHT2oEl3EVj2vn4DVX-iwxB55caDJWQYcBdYlxCx7bXvDc/',\n",
       "    'pixel_tracking_url': 'https://tracking.musixmatch.com/t1.0/m_img/e_1/sn_0/l_18006211/su_0/rs_0/tr_3vUCADgs0A6GXkNP6pyVVqFw3LDMPKr78vGfuIN6VkfQ5oYspHZ-QXHKAg6ypTMPsISE6i34HXdrxVcslmSg9dzY8_aDSsBOrlvt_0bUrFhLdMpZ4WwZozXIkRdRUYZkt1KNNVYLRi-hygVuvqwztyZjYILZqkYGd8I-ZVU5wPNuPLWXsxN4HffeZHfMhX82n_ofvFCD57hh3qdLw3REtZXmU8-OUEn_ChbFuTFO915vSD0LvuFjaGYXUoG5YgO1APv0uHSx0aLLcUsGuJXkoBqmMCEYorS35uLDJ8e9JMcZeMec_1VIuiU4o4UnVEkifPWRVD2VgNhCM4cT3vuzsq-hrsmF7qmV7UOL2N_w71G66dVbOkItG4GzO0jk35RNP2WybaPbaQuKWGzhf4ppvVixo2fCoN-TmgefUgKfXpq_oUUf0nf2V1yYTMUTULzI/',\n",
       "    'html_tracking_url': 'https://tracking.musixmatch.com/t1.0/m_html/e_1/sn_0/l_18006211/su_0/rs_0/tr_3vUCAN5fkg5mxYZZYwQXw3ZD4DUwPRely14E6iEaOQHB6bPyad4z3V-mGgLgwEx5BvAbLc0jCZB5v2gutx6ng-akYhrL6AbAlCTk9WDLuh0cCgbeDDa3n6zuQGIshgjrRQFeBa_1pgqmWdA3a_3F5cp2KqgefSWZiLilu0ws0uVeoI5jMZA68JqkAizCcR74igKdxsBHDuVrEOQ4sAUqRSdIrq22yeBHA5X0s57sRPbXf4L43-BwLxh13VJrYfnBIKo8pRtFBJ0epndaBkPDuaFRoXB9fAxMth27iEogkhMtzZ3aD7UCkiDU6Qa8nOffFWTNt8z2c_vodWggLqzIXHvjXPMoJ5kZp_hA0bvl_qT4eksXgJnpZoDP0tfkw9RM2vmUAI9zQYEMVhBrwaJ_oxfrs_Fg1S1iq81eCQg_nzMeA1IHdlejn8X77a_UpMRp/',\n",
       "    'lyrics_copyright': 'Lyrics powered by www.musixmatch.com. This Lyrics is NOT for Commercial use and only 30% of the lyrics are returned.',\n",
       "    'writer_list': [],\n",
       "    'publisher_list': [],\n",
       "    'backlink_url': 'https://www.musixmatch.com/lyrics/Gotye-feat-Kimbra/Somebody-That-I-Used-to-Know?utm_source=application&utm_campaign=api&utm_medium=',\n",
       "    'updated_time': '2018-07-02T09:54:46Z'}}}}"
      ]
     },
     "execution_count": 11,
     "metadata": {},
     "output_type": "execute_result"
    }
   ],
   "source": [
    "musixmatch.track_lyrics_get(15953433)"
   ]
  },
  {
   "cell_type": "code",
   "execution_count": 16,
   "metadata": {},
   "outputs": [
    {
     "ename": "TypeError",
     "evalue": "track_search() missing 1 required positional argument: 'q_artist'",
     "output_type": "error",
     "traceback": [
      "\u001b[0;31m---------------------------------------------------------------------------\u001b[0m",
      "\u001b[0;31mTypeError\u001b[0m                                 Traceback (most recent call last)",
      "\u001b[0;32m<ipython-input-16-26d25bffbb9a>\u001b[0m in \u001b[0;36m<module>\u001b[0;34m()\u001b[0m\n\u001b[0;32m----> 1\u001b[0;31m \u001b[0mmusixmatch\u001b[0m\u001b[0;34m.\u001b[0m\u001b[0mtrack_search\u001b[0m\u001b[0;34m(\u001b[0m\u001b[0mq_track\u001b[0m\u001b[0;34m=\u001b[0m\u001b[0;34m'thank u, next'\u001b[0m\u001b[0;34m,\u001b[0m \u001b[0mpage_size\u001b[0m\u001b[0;34m=\u001b[0m\u001b[0;36m10\u001b[0m\u001b[0;34m,\u001b[0m \u001b[0mpage\u001b[0m\u001b[0;34m=\u001b[0m\u001b[0;36m1\u001b[0m\u001b[0;34m,\u001b[0m \u001b[0ms_track_rating\u001b[0m\u001b[0;34m=\u001b[0m\u001b[0;34m'desc'\u001b[0m\u001b[0;34m)\u001b[0m\u001b[0;34m\u001b[0m\u001b[0m\n\u001b[0m\u001b[1;32m      2\u001b[0m \u001b[0;34m\u001b[0m\u001b[0m\n\u001b[1;32m      3\u001b[0m \u001b[0;34m\u001b[0m\u001b[0m\n\u001b[1;32m      4\u001b[0m \u001b[0;34m\u001b[0m\u001b[0m\n",
      "\u001b[0;31mTypeError\u001b[0m: track_search() missing 1 required positional argument: 'q_artist'"
     ]
    }
   ],
   "source": [
    "\n",
    "\n",
    "\n",
    "\n",
    "\n"
   ]
  },
  {
   "cell_type": "code",
   "execution_count": null,
   "metadata": {},
   "outputs": [],
   "source": []
  }
 ],
 "metadata": {
  "kernelspec": {
   "display_name": "Python 3",
   "language": "python",
   "name": "python3"
  },
  "language_info": {
   "codemirror_mode": {
    "name": "ipython",
    "version": 3
   },
   "file_extension": ".py",
   "mimetype": "text/x-python",
   "name": "python",
   "nbconvert_exporter": "python",
   "pygments_lexer": "ipython3",
   "version": "3.6.5"
  }
 },
 "nbformat": 4,
 "nbformat_minor": 2
}
