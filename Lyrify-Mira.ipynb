{
 "cells": [
  {
   "cell_type": "code",
   "execution_count": 3,
   "metadata": {},
   "outputs": [
    {
     "ename": "ModuleNotFoundError",
     "evalue": "No module named 'spotipy'",
     "output_type": "error",
     "traceback": [
      "\u001b[0;31m---------------------------------------------------------------------------\u001b[0m",
      "\u001b[0;31mModuleNotFoundError\u001b[0m                       Traceback (most recent call last)",
      "\u001b[0;32m<ipython-input-3-a595a3a6fd51>\u001b[0m in \u001b[0;36m<module>\u001b[0;34m()\u001b[0m\n\u001b[1;32m      1\u001b[0m \u001b[0;32mimport\u001b[0m \u001b[0msys\u001b[0m\u001b[0;34m\u001b[0m\u001b[0m\n\u001b[0;32m----> 2\u001b[0;31m \u001b[0;32mimport\u001b[0m \u001b[0mspotipy\u001b[0m\u001b[0;34m\u001b[0m\u001b[0m\n\u001b[0m\u001b[1;32m      3\u001b[0m \u001b[0;32mimport\u001b[0m \u001b[0mspotipy\u001b[0m\u001b[0;34m.\u001b[0m\u001b[0mutil\u001b[0m \u001b[0;32mas\u001b[0m \u001b[0mutil\u001b[0m\u001b[0;34m\u001b[0m\u001b[0m\n\u001b[1;32m      4\u001b[0m \u001b[0;32mimport\u001b[0m \u001b[0mrequests\u001b[0m\u001b[0;34m\u001b[0m\u001b[0m\n\u001b[1;32m      5\u001b[0m \u001b[0;34m\u001b[0m\u001b[0m\n",
      "\u001b[0;31mModuleNotFoundError\u001b[0m: No module named 'spotipy'"
     ]
    }
   ],
   "source": [
    "import sys\n",
    "import spotipy\n",
    "import spotipy.util as util\n",
    "import requests\n",
    "\n",
    "import pprint\n",
    "import sys\n",
    "import os\n",
    "import subprocess\n",
    "import webbrowser\n",
    "\n",
    "from IPython.core.display import display, HTML\n",
    "client_id = \"7b51f8057060428badac336f2fe4a250\"\n",
    "client_secret = \"40221bd5a5894ed38c4901e6a2c2e29d\"\n",
    "redirect_uri = \"http://localhost:8888/callback/\""
   ]
  },
  {
   "cell_type": "code",
   "execution_count": 5,
   "metadata": {},
   "outputs": [
    {
     "ename": "NameError",
     "evalue": "name 'mkohli' is not defined",
     "output_type": "error",
     "traceback": [
      "\u001b[0;31m---------------------------------------------------------------------------\u001b[0m",
      "\u001b[0;31mNameError\u001b[0m                                 Traceback (most recent call last)",
      "\u001b[0;32m<ipython-input-5-aeaef359e77b>\u001b[0m in \u001b[0;36m<module>\u001b[0;34m()\u001b[0m\n\u001b[1;32m      3\u001b[0m \u001b[0;31m## SPOTIPY_REDIRECT_URI= \"http://localhost:8888/callback/\"\u001b[0m\u001b[0;34m\u001b[0m\u001b[0;34m\u001b[0m\u001b[0m\n\u001b[1;32m      4\u001b[0m \u001b[0;31m## put ! in front and run in command line\u001b[0m\u001b[0;34m\u001b[0m\u001b[0;34m\u001b[0m\u001b[0m\n\u001b[0;32m----> 5\u001b[0;31m \u001b[0musername\u001b[0m \u001b[0;34m=\u001b[0m \u001b[0mmkohli\u001b[0m\u001b[0;34m\u001b[0m\u001b[0m\n\u001b[0m\u001b[1;32m      6\u001b[0m \u001b[0mscope\u001b[0m \u001b[0;34m=\u001b[0m \u001b[0;34m'user-read-private user-read-email user-read-playback-state user-modify-playback-state'\u001b[0m\u001b[0;34m\u001b[0m\u001b[0m\n\u001b[1;32m      7\u001b[0m \u001b[0;34m\u001b[0m\u001b[0m\n",
      "\u001b[0;31mNameError\u001b[0m: name 'mkohli' is not defined"
     ]
    }
   ],
   "source": [
    "## SPOTIPY_CLIENT_ID= \"7b51f8057060428badac336f2fe4a250\"\n",
    "## SPOTIPY_CLIENT_SECRET=\"40221bd5a5894ed38c4901e6a2c2e29d\"\n",
    "## SPOTIPY_REDIRECT_URI= \"http://localhost:8888/callback/\"\n",
    "## put ! in front and run in command line\n",
    "username = mkohli\n",
    "scope = 'user-read-private user-read-email user-read-playback-state user-modify-playback-state'\n",
    "\n",
    "try:\n",
    "    token = util.prompt_for_user_token(username, scope)\n",
    "except:\n",
    "    os.remove(f\".cache-{username}\")\n",
    "    token = util.prompt_for_user_token(username, scope)"
   ]
  },
  {
   "cell_type": "code",
   "execution_count": 4,
   "metadata": {},
   "outputs": [
    {
     "ename": "SyntaxError",
     "evalue": "Missing parentheses in call to 'print'. Did you mean print('track    : ' + track['name'])? (<ipython-input-4-a43125439ed5>, line 12)",
     "output_type": "error",
     "traceback": [
      "\u001b[0;36m  File \u001b[0;32m\"<ipython-input-4-a43125439ed5>\"\u001b[0;36m, line \u001b[0;32m12\u001b[0m\n\u001b[0;31m    print 'track    : ' + track['name']\u001b[0m\n\u001b[0m                      ^\u001b[0m\n\u001b[0;31mSyntaxError\u001b[0m\u001b[0;31m:\u001b[0m Missing parentheses in call to 'print'. Did you mean print('track    : ' + track['name'])?\n"
     ]
    }
   ],
   "source": [
    "import spotipy\n",
    "\n",
    "song_name = inaput(\"what song are you listening to? \")\n",
    "artist_name = input(\"Who is the song by \")\n",
    "\n",
    "artist = 'spotify:artist:36QJpDe2go2KgaRleHCDTp' ## find inputed artist_name in spotify for value\n",
    "\n",
    "spotify = spotipy.Spotify()\n",
    "results = spotify.artist_top_tracks(artist)\n",
    "\n",
    "for track in results['tracks'][0]:\n",
    "    print 'track    : ' + track['name']\n",
    "    print 'audio    : ' + track['preview_url']\n",
    "    print 'cover art: ' + track['album']['images'][0]['url']\n",
    "    print\n",
    "\n",
    "print(\"The lyrics for %s by %s are\"%(song_name, artist_name))"
   ]
  },
  {
   "cell_type": "code",
   "execution_count": null,
   "metadata": {},
   "outputs": [],
   "source": []
  }
 ],
 "metadata": {
  "kernelspec": {
   "display_name": "Python 3",
   "language": "python",
   "name": "python3"
  },
  "language_info": {
   "codemirror_mode": {
    "name": "ipython",
    "version": 3
   },
   "file_extension": ".py",
   "mimetype": "text/x-python",
   "name": "python",
   "nbconvert_exporter": "python",
   "pygments_lexer": "ipython3",
   "version": "3.6.5"
  }
 },
 "nbformat": 4,
 "nbformat_minor": 2
}
